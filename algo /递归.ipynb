{
 "metadata": {
  "orig_nbformat": 2,
  "kernelspec": {
   "name": "python3",
   "display_name": "Python 3",
   "language": "python"
  }
 },
 "nbformat": 4,
 "nbformat_minor": 2,
 "cells": [
  {
   "source": [
    "## 递归(Recursion) 中心思想是找到基线！！！\n"
   ],
   "cell_type": "markdown",
   "metadata": {}
  },
  {
   "source": [
    "## 对称二叉树\n",
    "基线条件：left.val = right.val, left.left = right.right, left.right = right.left\n",
    "\n",
    "直到最后到达叶片。那么left, right 的 left right 都是None\n"
   ],
   "cell_type": "markdown",
   "metadata": {}
  },
  {
   "cell_type": "code",
   "execution_count": null,
   "metadata": {},
   "outputs": [],
   "source": [
    "class Solution(object):\n",
    "    def isSymmetric(self, root):\n",
    "        \"\"\"\n",
    "        :type root: TreeNode\n",
    "        :rtype: bool\n",
    "        \"\"\"\n",
    "        def isSym(left, right): # 基础判断\n",
    "            if (left or right) == None:\n",
    "                return True\n",
    "            if (left and right) == None:\n",
    "                return False            \n",
    "            if left.val != right.val:\n",
    "                return False\n",
    "            return isSym(left.left, right.right) and isSym(left.right, right.left) \n",
    "            # 当没有到达叶片时，ji xjix\n",
    "        \n",
    "        return isSym(root.left, root.right)"
   ]
  },
  {
   "source": [
    "this question can be solved by using queue\n",
    "\n",
    "be very very careful the diff between 'pass' and 'continue'\n",
    "\n",
    "pass --> run next instruction ;\n",
    "\n",
    "continue --> end current iteration and run the next one\n"
   ],
   "cell_type": "markdown",
   "metadata": {}
  },
  {
   "cell_type": "code",
   "execution_count": null,
   "metadata": {},
   "outputs": [],
   "source": [
    "class Solution(object):\n",
    "    from collections import deque\n",
    "    def isSymmetric(self, root):\n",
    "        \"\"\"\n",
    "        :type root: TreeNode\n",
    "        :rtype: bool\n",
    "        \"\"\"\n",
    "        if not (root.left or root.right):\n",
    "            return True \n",
    "        queue = []\n",
    "        queue += [root.left]\n",
    "        queue += [root.right]\n",
    "\n",
    "        while queue:\n",
    "            left = queue.pop(0)\n",
    "            right = queue.pop(0)\n",
    "            if (left or right) == None: # here we use continue because this is the case where we have two None. But still we have to verify the other leaves\n",
    "                continue\n",
    "            if (left and right) == None:\n",
    "                return False\n",
    "            if left.val != right.val:\n",
    "                return False\n",
    "            queue += [left.left]\n",
    "            queue += [right.right]\n",
    "            queue += [left.right]\n",
    "            queue += [right.left]\n",
    "\n",
    "        return True"
   ]
  },
  {
   "cell_type": "code",
   "execution_count": 3,
   "metadata": {},
   "outputs": [
    {
     "output_type": "execute_result",
     "data": {
      "text/plain": [
       "'1001101'"
      ]
     },
     "metadata": {},
     "execution_count": 3
    }
   ],
   "source": [
    "a = 77\n",
    "format(a,'b')"
   ]
  },
  {
   "cell_type": "code",
   "execution_count": 18,
   "metadata": {},
   "outputs": [],
   "source": [
    "class Trie:\n",
    "    def __init__(self,val):\n",
    "        self.val = val\n",
    "        self.child = {}\n",
    "class Solution(object):\n",
    "    def findMaximumXOR(self, nums):\n",
    "        \"\"\"\n",
    "        :type nums: List[int]\n",
    "        :rtype: int\n",
    "        \"\"\"\n",
    "        L = len(format(max(nums),'b'))-1\n",
    "\n",
    "        root = Trie(-1)\n",
    "\n",
    "        for n in nums:\n",
    "            curr = root\n",
    "            for i in range(L,-1,-1):\n",
    "                v = (n >> i) & 1 \n",
    "                # >>向右边移动一位。& 1 表示取最右边的bit\n",
    "                if v not in curr.child:\n",
    "                    curr.child[v] = Trie(v)\n",
    "                curr = curr.child[v]\n",
    "        return root "
   ]
  },
  {
   "cell_type": "code",
   "execution_count": 25,
   "metadata": {},
   "outputs": [
    {
     "output_type": "execute_result",
     "data": {
      "text/plain": [
       "0"
      ]
     },
     "metadata": {},
     "execution_count": 25
    }
   ],
   "source": [
    "l = [1,2,3,4]\n",
    "a = Solution()\n",
    "root = a.findMaximumXOR(l)\n",
    "root.child[0].val"
   ]
  },
  {
   "cell_type": "code",
   "execution_count": 31,
   "metadata": {},
   "outputs": [
    {
     "output_type": "stream",
     "name": "stdout",
     "text": [
      "0\n0\n0\n1\n1\n"
     ]
    }
   ],
   "source": [
    "n = 3\n",
    "for i in range(4,-1,-1):\n",
    "    v = (n >> i) & 1 \n",
    "    print(v)"
   ]
  },
  {
   "cell_type": "code",
   "execution_count": null,
   "metadata": {},
   "outputs": [],
   "source": []
  }
 ]
}