{
 "metadata": {
  "language_info": {
   "codemirror_mode": {
    "name": "ipython",
    "version": 3
   },
   "file_extension": ".py",
   "mimetype": "text/x-python",
   "name": "python",
   "nbconvert_exporter": "python",
   "pygments_lexer": "ipython3",
   "version": 3
  },
  "orig_nbformat": 2
 },
 "nbformat": 4,
 "nbformat_minor": 2,
 "cells": [
  {
   "source": [
    "## 12. 整数转罗马数字\n",
    "此题一开始就确定了用贪心。但是没有想到如何解决左边右边的问题。因为 4 = IV, 6 = VI.\n",
    "解决办法是划分更多的sub standard. "
   ],
   "cell_type": "markdown",
   "metadata": {}
  },
  {
   "cell_type": "code",
   "execution_count": null,
   "metadata": {},
   "outputs": [],
   "source": [
    "class Solution(object):\n",
    "    VALUE_SYMBOLS = [\n",
    "        (1000, \"M\"),\n",
    "        (900, \"CM\"),\n",
    "        (500, \"D\"),\n",
    "        (400, \"CD\"),\n",
    "        (100, \"C\"),\n",
    "        (90, \"XC\"),\n",
    "        (50, \"L\"),\n",
    "        (40, \"XL\"),\n",
    "        (10, \"X\"),\n",
    "        (9, \"IX\"),\n",
    "        (5, \"V\"),\n",
    "        (4, \"IV\"),\n",
    "        (1, \"I\"),\n",
    "    ]\n",
    "    def intToRoman(self, num):\n",
    "        \"\"\"\n",
    "        :type num: int\n",
    "        :rtype: str\n",
    "        \"\"\"\n",
    "        roman = list()\n",
    "        for value, symbol in Solution.VALUE_SYMBOLS:\n",
    "            while num >= value:\n",
    "                num -= value\n",
    "                roman.append(symbol)\n",
    "            if num == 0:\n",
    "                break\n",
    "        return \"\".join(roman) # join函数最好的一点就是吧list里面所有的字符串一下子全部导出来"
   ]
  },
  {
   "cell_type": "code",
   "execution_count": null,
   "metadata": {},
   "outputs": [],
   "source": [
    "for i in range(5,-1,0):\n",
    "    print(i)"
   ]
  },
  {
   "cell_type": "code",
   "execution_count": null,
   "metadata": {},
   "outputs": [],
   "source": []
  }
 ]
}