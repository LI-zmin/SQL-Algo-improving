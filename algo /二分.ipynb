{
 "cells": [
  {
   "cell_type": "markdown",
   "metadata": {},
   "source": [
    "二分法模版"
   ]
  },
  {
   "cell_type": "markdown",
   "metadata": {},
   "source": [
    "left, right\n",
    "while left<right:\n",
    "    mid = (left+right)//2\n",
    "    if checked(mid):\n",
    "        right = mid\n",
    "    else:\n",
    "        left = mid+1\n",
    "    return left\n",
    "        "
   ]
  },
  {
   "cell_type": "markdown",
   "metadata": {},
   "source": [
    "## 1482. 制作 m 束花所需的最少天数\n",
    "\n",
    "思路： 要在一个列表里找到合适的一天，大了浪费，小了不合适，想到二分法"
   ]
  },
  {
   "cell_type": "code",
   "execution_count": 2,
   "metadata": {},
   "outputs": [],
   "source": [
    "import numpy as np\n",
    "class Solution(object):\n",
    "    def minDays(self, bloomDay, m, k):\n",
    "        \"\"\"\n",
    "        :type bloomDay: List[int]\n",
    "        :type m: int\n",
    "        :type k: int\n",
    "        :rtype: int\n",
    "        \"\"\"\n",
    "        n = len(bloomDay) # how many flower in total\n",
    "        ## use dico to searche the right day\n",
    "        \n",
    "        left = np.min(bloomDay)\n",
    "        right = np.max(bloomDay)\n",
    "        \n",
    "        if n<m*k: \n",
    "            return -1\n",
    "        \n",
    "        while left < right:\n",
    "            # 假设尝试 mid 作为最小的天数, 看看能不能制作要求的花束\n",
    "            mid = (left + right) // 2\n",
    "            # 如果可以制作花束, 那么可以尝试天数再减小一点, 因此right往左走, 缩小搜索范围\n",
    "            if self.canMakeF(bloomDay, mid, m, k)>=m:\n",
    "                right = mid\n",
    "            # 如果无法制作花束, 那么可以尝试天数再增大一点, 因此left往右边走, 区间的左边值加大\n",
    "            else:\n",
    "                left = mid + 1\n",
    "        return left\n",
    "\n",
    "        \n",
    "    def canMakeF(self, bloomDay, day, m, k): \n",
    "        successive = 0\n",
    "        flower = 0\n",
    "        for i in range(len(bloomDay)):\n",
    "            if bloomDay[i]<=day:\n",
    "                successive+=1\n",
    "                if successive==k:\n",
    "                    flower+=1\n",
    "                    successive=0\n",
    "            else:\n",
    "                successive = 0\n",
    "                \n",
    "            if flower == m:\n",
    "                break\n",
    "        return flower\n",
    "    \n",
    "\n",
    "        "
   ]
  },
  {
   "cell_type": "markdown",
   "metadata": {},
   "source": [
    "## 排序好的数组的查找index问题\n"
   ]
  },
  {
   "cell_type": "code",
   "execution_count": 36,
   "metadata": {},
   "outputs": [],
   "source": [
    "def returnIndex(list, target):\n",
    "    if target in list:\n",
    "        return list.index(target)\n",
    "    else:\n",
    "        if list[0]<=list[1]:\n",
    "            left = 0\n",
    "            right = len(list)-1\n",
    "            if target<list[left]:\n",
    "                return 0\n",
    "            elif target>list[right]:\n",
    "                return len(list)\n",
    "            else:\n",
    "                while left<right:\n",
    "                    mid = (left+right)//2\n",
    "                    if list[mid]>target:\n",
    "                        right=mid\n",
    "                    else:\n",
    "                        left = mid+1\n",
    "                return left\n",
    "        else:\n",
    "            left = 0\n",
    "            right = len(list)-1\n",
    "            if target>list[left]:\n",
    "                return 0\n",
    "            elif target<list[right]:\n",
    "                return len(list)\n",
    "            else:\n",
    "                while left<right:\n",
    "                    mid = (left+right)//2\n",
    "                    if list[mid]<target:\n",
    "                        right=mid\n",
    "                    else:\n",
    "                        left = mid+1\n",
    "                return left\n",
    "            "
   ]
  },
  {
   "cell_type": "code",
   "execution_count": 37,
   "metadata": {},
   "outputs": [
    {
     "name": "stdout",
     "output_type": "stream",
     "text": [
      "1\n"
     ]
    }
   ],
   "source": [
    "l = [8,4,3,1]\n",
    "t = 5\n",
    "print(returnIndex(l,t))"
   ]
  },
  {
   "cell_type": "code",
   "execution_count": null,
   "metadata": {},
   "outputs": [],
   "source": []
  }
 ],
 "metadata": {
  "kernelspec": {
   "display_name": "Python 3",
   "language": "python",
   "name": "python3"
  },
  "language_info": {
   "codemirror_mode": {
    "name": "ipython",
    "version": 3
   },
   "file_extension": ".py",
   "mimetype": "text/x-python",
   "name": "python",
   "nbconvert_exporter": "python",
   "pygments_lexer": "ipython3",
   "version": "3.7.4"
  }
 },
 "nbformat": 4,
 "nbformat_minor": 2
}
