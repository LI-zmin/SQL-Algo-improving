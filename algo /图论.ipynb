{
 "metadata": {
  "orig_nbformat": 2,
  "kernelspec": {
   "name": "python3",
   "display_name": "Python 3",
   "language": "python"
  }
 },
 "nbformat": 4,
 "nbformat_minor": 2,
 "cells": [
  {
   "source": [
    "## 最简单的图，广度搜索原则。\n",
    "利用的是队列。先进先出，首先从核心圈子找起来，弹出核心圈子的时候，把相应的邻居压入进来。\\\\\n",
    "\n",
    "还要注意有一个标记已经检查了的人的表\n"
   ],
   "cell_type": "markdown",
   "metadata": {}
  },
  {
   "cell_type": "code",
   "execution_count": 22,
   "metadata": {},
   "outputs": [],
   "source": [
    "\n",
    "\n",
    "from collections import deque\n",
    "def find_MS(graph):\n",
    "    search_queue = deque()\n",
    "    search_queue += graph['you']\n",
    "    checked_person = ['you']\n",
    "\n",
    "    while search_queue:\n",
    "        print(search_queue)\n",
    "        person = search_queue.popleft()\n",
    "        if person not in checked_person:\n",
    "            if checked(person):\n",
    "                print(person+' is a mango seller')\n",
    "                return True\n",
    "            else:\n",
    "                search_queue += graph[person]\n",
    "                checked_person.append(person)\n",
    "    return False\n",
    "\n",
    "def checked(person):\n",
    "    if person == 'jonny':\n",
    "        return True\n",
    "\n",
    "    return False"
   ]
  },
  {
   "cell_type": "code",
   "execution_count": 23,
   "metadata": {},
   "outputs": [
    {
     "output_type": "stream",
     "name": "stdout",
     "text": [
      "deque(['alice', 'bob', 'claire'])\ndeque(['bob', 'claire', 'peggy', 'you'])\ndeque(['claire', 'peggy', 'you', 'anuj'])\ndeque(['peggy', 'you', 'anuj', 'thom', 'jonny'])\ndeque(['you', 'anuj', 'thom', 'jonny'])\ndeque(['anuj', 'thom', 'jonny'])\ndeque(['thom', 'jonny'])\ndeque(['jonny'])\njonny is a mango seller\n"
     ]
    },
    {
     "output_type": "execute_result",
     "data": {
      "text/plain": [
       "True"
      ]
     },
     "metadata": {},
     "execution_count": 23
    }
   ],
   "source": [
    "graph = {}\n",
    "graph['you'] = ['alice', 'bob', 'claire']\n",
    "graph['bob'] = ['anuj']\n",
    "graph['alice'] = ['peggy', 'you']\n",
    "graph['claire'] = ['thom', 'jonny']\n",
    "graph['anuj'] = []\n",
    "graph['peggy'] = []\n",
    "graph['thom'] = []\n",
    "graph['jonny'] = []\n",
    "\n",
    "find_MS(graph)"
   ]
  },
  {
   "source": [
    "## A star 算法"
   ],
   "cell_type": "markdown",
   "metadata": {}
  },
  {
   "cell_type": "code",
   "execution_count": 26,
   "metadata": {},
   "outputs": [],
   "source": [
    "class Pt:\n",
    "    def __init__(self, x=0, y=0):\n",
    "        self.x = x\n",
    "        self.y = y\n",
    "class Node:\n",
    "    def __init__(self,pt, g=0,h=0):\n",
    "        self.pt = pt\n",
    "        self.g = g\n",
    "        self.h = h\n",
    "        self.father = None\n",
    "    def calH(self, endNode):\n",
    "        self.h = abs(endNode.pt.x - self.pt.x)+abs(endNode.pt.y - self.pt.y)\n",
    "\n",
    "    def setG(self, g):\n",
    "        self.g = g\n",
    "    def setFather(self, fatherNode):\n",
    "        self.father = fatherNode\n",
    "\n",
    "class AStar:\n",
    "    def __init__(self, map, initNode, endNode):\n",
    "        self.openList = []\n",
    "        self.closeList = []\n",
    "        self.map = map\n",
    "        self.startNode = initNode\n",
    "        self.endNode = endNode\n",
    "        self.currentNode = initNode\n",
    "        self.path = []\n",
    "\n",
    "    def inOpenList(self, node):\n",
    "        if node in self.openList:\n",
    "            return True\n",
    "        return False\n",
    "\n",
    "    def inCloseList(self, node):\n",
    "        if node in self.closeList:\n",
    "            return True\n",
    "        return False\n",
    "\n",
    "    def reachFIN(self):\n",
    "        return self.inOpenList(self.endNode)\n",
    "\n",
    "    def \n",
    "    \n",
    "\n",
    "    \n",
    "\n"
   ]
  },
  {
   "cell_type": "code",
   "execution_count": 29,
   "metadata": {},
   "outputs": [
    {
     "output_type": "stream",
     "name": "stdout",
     "text": [
      "None\n"
     ]
    }
   ],
   "source": [
    "a = None\n",
    "b = None\n",
    "print(a and b)\n"
   ]
  },
  {
   "cell_type": "code",
   "execution_count": 31,
   "metadata": {},
   "outputs": [
    {
     "output_type": "stream",
     "name": "stdout",
     "text": [
      "[0]\n"
     ]
    }
   ],
   "source": [
    "l = []\n",
    "l += [0]\n",
    "print(l)"
   ]
  },
  {
   "cell_type": "code",
   "execution_count": null,
   "metadata": {},
   "outputs": [],
   "source": []
  }
 ]
}