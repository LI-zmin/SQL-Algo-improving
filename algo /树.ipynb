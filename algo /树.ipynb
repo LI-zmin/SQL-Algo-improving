{
 "metadata": {
  "orig_nbformat": 2,
  "kernelspec": {
   "name": "python3",
   "display_name": "Python 3",
   "language": "python"
  }
 },
 "nbformat": 4,
 "nbformat_minor": 2,
 "cells": [
  {
   "source": [
    "## 字典树，前缀树。also called Trie"
   ],
   "cell_type": "markdown",
   "metadata": {}
  },
  {
   "cell_type": "code",
   "execution_count": 1,
   "metadata": {},
   "outputs": [],
   "source": [
    "class Trie: # definition \n",
    "    def __init__(self,val):\n",
    "        self.val = val\n",
    "        self.child = {}\n",
    "\n",
    "class Solution(object):\n",
    "    def findMaximumXOR(self, nums):\n",
    "        \"\"\"\n",
    "        :type nums: List[int]\n",
    "        :rtype: int\n",
    "        \"\"\"\n",
    "        L = len(format(max(nums),'b'))-1\n",
    "## --------------   构建字典树   ----------------\n",
    "        root = Trie(-1)\n",
    "        for n in nums:\n",
    "            curr = root\n",
    "            for i in range(L,-1,-1):\n",
    "                v = (n >> i) & 1 \n",
    "                # >>向右边移动i位。& 1 表示取最右边的bit\n",
    "                # 3 的话倒着取出 0,0,0,1,1\n",
    "                if v not in curr.child:\n",
    "                    curr.child[v] = Trie(v)\n",
    "                curr = curr.child[v]\n",
    "                \n",
    "        res = 0\n",
    "    ## ---------------   遍历字典树解决问题  ------------------\n",
    "        for n in nums:\n",
    "            curr = root\n",
    "            xor = 0\n",
    "            for i in range(L,-1,-1):\n",
    "                v = (n>>i) & 1\n",
    "                if 1-v in curr.child:\n",
    "                    curr = curr.child[1-v]\n",
    "                    xor = xor*2+1\n",
    "                else:\n",
    "                    curr = curr.child[v]\n",
    "                    xor *= 2\n",
    "            res = max(res,xor)\n",
    "        return res\n"
   ]
  },
  {
   "cell_type": "code",
   "execution_count": null,
   "metadata": {},
   "outputs": [],
   "source": []
  }
 ]
}