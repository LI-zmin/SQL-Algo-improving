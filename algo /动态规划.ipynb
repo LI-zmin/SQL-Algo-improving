{
 "cells": [
  {
   "source": [
    "## 动态规划是最精妙的算法之一。主要的思想是找到transfer的条件。"
   ],
   "cell_type": "markdown",
   "metadata": {}
  },
  {
   "cell_type": "markdown",
   "metadata": {},
   "source": [
    "## 背包问题 （见算法图解书）\n",
    "特定重量和价值，找到最优装载办法"
   ]
  },
  {
   "cell_type": "code",
   "execution_count": 38,
   "metadata": {},
   "outputs": [],
   "source": [
    "import numpy as np\n",
    "\n",
    "def solve(vlist,wlist,totalW):\n",
    "    n = len(vlist)\n",
    "    w = totalW\n",
    "    tab = np.zeros([n+1,w+1])\n",
    "    for i in range(1,n+1):\n",
    "        for j in range(1,w+1):\n",
    "            if wlist[i-1]>j:\n",
    "                tab[i][j]=tab[i-1][j]\n",
    "            else:\n",
    "                tab[i][j]=max(tab[i-1][j],tab[i-1][j-wlist[i-1]]+vlist[i-1])\n",
    "    \n",
    "    return tab"
   ]
  },
  {
   "cell_type": "code",
   "execution_count": 40,
   "metadata": {},
   "outputs": [
    {
     "name": "stdout",
     "output_type": "stream",
     "text": [
      "[[ 0.  0.  0.  0.  0.  0.  0.]\n",
      " [ 0.  0.  0. 10. 10. 10. 10.]\n",
      " [ 0.  3.  3. 10. 13. 13. 13.]\n",
      " [ 0.  3.  9. 12. 13. 19. 22.]\n",
      " [ 0.  3.  9. 12. 14. 19. 22.]\n",
      " [ 0.  6.  9. 15. 18. 20. 25.]]\n"
     ]
    }
   ],
   "source": [
    "val = [10,3,9,5,6]\n",
    "weights = [3,1,2,2,1]\n",
    "print(solve(val,weights,6))"
   ]
  },
  {
   "cell_type": "markdown",
   "metadata": {},
   "source": [
    "## 最大子序列和， 第53题"
   ]
  },
  {
   "cell_type": "code",
   "execution_count": 52,
   "metadata": {},
   "outputs": [],
   "source": [
    "def solve(list):\n",
    "    n = len(list)\n",
    "    pre = list[0]\n",
    "    maxSum = list[0]\n",
    "    for i in range(1,n):\n",
    "        pre = max(list[i], pre+list[i])\n",
    "        if pre>maxSum:\n",
    "            maxSum = pre\n",
    "   \n",
    "    return maxSum\n"
   ]
  },
  {
   "cell_type": "code",
   "execution_count": 53,
   "metadata": {},
   "outputs": [
    {
     "name": "stdout",
     "output_type": "stream",
     "text": [
      "6\n"
     ]
    }
   ],
   "source": [
    "nums = [-2,1,-3,4,-1,2,1,-5,4]\n",
    "print(solve(nums))"
   ]
  },
  {
   "source": [
    "## 1269 - 留在原地的可能性\n",
    "注意，虽然想到了动态规划。也想到了要利用前一步的已经算好的值。但是需要注意的是：我们应该维持一个表，记录每一步，最后停留在每一个位置的可能性。这样，最后一步回到位置0的办法就是上一步在位置0或是位置1的可能的和。"
   ],
   "cell_type": "markdown",
   "metadata": {}
  },
  {
   "cell_type": "code",
   "execution_count": 39,
   "metadata": {},
   "outputs": [],
   "source": [
    "class Solution:\n",
    "    def numWays(self, steps, arrLen):\n",
    "        maxCol = min(steps, arrLen)\n",
    "        l2 = [0]*maxCol\n",
    "        l2[0] = 1\n",
    "        mod = 10**9+7\n",
    "        for i in range(steps):\n",
    "            l1 = [0]*maxCol\n",
    "            l1[0] = (l2[0]+l2[1])%mod\n",
    "            l1[-1] = (l2[-1]+l2[-2])%mod            \n",
    "            for j in range(1, maxCol-1):\n",
    "                l1[j] = (l2[j-1]+l2[j]+l2[j+1])%mod\n",
    "            l2 = l1\n",
    "        return l1[0]\n",
    "            "
   ]
  },
  {
   "source": [
    "## 注意\n",
    "上一题容易出错（其实是超时的原因）是，当arrLEN远远大于steps时，创立那么长的数列根本没用\n",
    "所以，表的dim=1的长度只需要是step或是arrlen的较小值\n",
    "\n"
   ],
   "cell_type": "markdown",
   "metadata": {}
  },
  {
   "cell_type": "code",
   "execution_count": null,
   "metadata": {},
   "outputs": [],
   "source": []
  }
 ],
 "metadata": {
  "kernelspec": {
   "display_name": "Python 3",
   "language": "python",
   "name": "python3"
  },
  "language_info": {
   "codemirror_mode": {
    "name": "ipython",
    "version": 3
   },
   "file_extension": ".py",
   "mimetype": "text/x-python",
   "name": "python",
   "nbconvert_exporter": "python",
   "pygments_lexer": "ipython3",
   "version": "3.7.4"
  }
 },
 "nbformat": 4,
 "nbformat_minor": 2
}