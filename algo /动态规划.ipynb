{
 "cells": [
  {
   "source": [
    "## 动态规划是最精妙的算法之一。主要的思想是找到transfer的条件。"
   ],
   "cell_type": "markdown",
   "metadata": {}
  },
  {
   "cell_type": "markdown",
   "metadata": {},
   "source": [
    "## 背包问题 （见算法图解书）\n",
    "特定重量和价值，找到最优装载办法"
   ]
  },
  {
   "cell_type": "code",
   "execution_count": 38,
   "metadata": {},
   "outputs": [],
   "source": [
    "import numpy as np\n",
    "\n",
    "def solve(vlist,wlist,totalW):\n",
    "    n = len(vlist)\n",
    "    w = totalW\n",
    "    tab = np.zeros([n+1,w+1])\n",
    "    for i in range(1,n+1):\n",
    "        for j in range(1,w+1):\n",
    "            if wlist[i-1]>j:\n",
    "                tab[i][j]=tab[i-1][j]\n",
    "            else:\n",
    "                tab[i][j]=max(tab[i-1][j],tab[i-1][j-wlist[i-1]]+vlist[i-1])\n",
    "    \n",
    "    return tab"
   ]
  },
  {
   "cell_type": "code",
   "execution_count": 40,
   "metadata": {},
   "outputs": [
    {
     "name": "stdout",
     "output_type": "stream",
     "text": [
      "[[ 0.  0.  0.  0.  0.  0.  0.]\n",
      " [ 0.  0.  0. 10. 10. 10. 10.]\n",
      " [ 0.  3.  3. 10. 13. 13. 13.]\n",
      " [ 0.  3.  9. 12. 13. 19. 22.]\n",
      " [ 0.  3.  9. 12. 14. 19. 22.]\n",
      " [ 0.  6.  9. 15. 18. 20. 25.]]\n"
     ]
    }
   ],
   "source": [
    "val = [10,3,9,5,6]\n",
    "weights = [3,1,2,2,1]\n",
    "print(solve(val,weights,6))"
   ]
  },
  {
   "cell_type": "markdown",
   "metadata": {},
   "source": [
    "## 最大子序列和， 第53题"
   ]
  },
  {
   "cell_type": "code",
   "execution_count": 52,
   "metadata": {},
   "outputs": [],
   "source": [
    "def solve(list):\n",
    "    n = len(list)\n",
    "    pre = list[0]\n",
    "    maxSum = list[0]\n",
    "    for i in range(1,n):\n",
    "        pre = max(list[i], pre+list[i])\n",
    "        if pre>maxSum:\n",
    "            maxSum = pre\n",
    "   \n",
    "    return maxSum\n"
   ]
  },
  {
   "cell_type": "code",
   "execution_count": 53,
   "metadata": {},
   "outputs": [
    {
     "name": "stdout",
     "output_type": "stream",
     "text": [
      "6\n"
     ]
    }
   ],
   "source": [
    "nums = [-2,1,-3,4,-1,2,1,-5,4]\n",
    "print(solve(nums))"
   ]
  },
  {
   "cell_type": "code",
   "execution_count": null,
   "metadata": {},
   "outputs": [],
   "source": []
  }
 ],
 "metadata": {
  "kernelspec": {
   "display_name": "Python 3",
   "language": "python",
   "name": "python3"
  },
  "language_info": {
   "codemirror_mode": {
    "name": "ipython",
    "version": 3
   },
   "file_extension": ".py",
   "mimetype": "text/x-python",
   "name": "python",
   "nbconvert_exporter": "python",
   "pygments_lexer": "ipython3",
   "version": "3.7.4"
  }
 },
 "nbformat": 4,
 "nbformat_minor": 2
}