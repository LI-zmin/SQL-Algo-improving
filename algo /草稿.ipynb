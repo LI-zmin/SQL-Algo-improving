{
 "cells": [
  {
   "cell_type": "code",
   "execution_count": 22,
   "metadata": {},
   "outputs": [],
   "source": [
    "import numpy as np\n",
    "import math \n",
    "k = 7\n",
    "t = 21"
   ]
  },
  {
   "cell_type": "code",
   "execution_count": 23,
   "metadata": {},
   "outputs": [],
   "source": [
    "k3 = max(math.ceil((t-2*k)/4),math.floor((t-k)/4))\n",
    "k2 = t-k-4*k3\n",
    "k1 = k-k2-k3\n",
    "sol = [k1,k2,k3]"
   ]
  },
  {
   "cell_type": "code",
   "execution_count": 24,
   "metadata": {},
   "outputs": [
    {
     "name": "stdout",
     "output_type": "stream",
     "text": [
      "[2, 2, 3]\n",
      "sum =  21\n"
     ]
    }
   ],
   "source": [
    "print(sol)\n",
    "print(\"sum = \", k1+2*k2+5*k3)"
   ]
  },
  {
   "cell_type": "code",
   "execution_count": 44,
   "metadata": {},
   "outputs": [],
   "source": [
    "## give N, delete x bits, make the rest the minimum possible33\n",
    "N = '1432319'\n",
    "x = 3\n",
    "length = len(N)\n",
    "len_res = length - x # how long we keep\n",
    "\n",
    "sol = ''\n",
    "init_idx = 0\n",
    "for i in range(len_res):\n",
    "    min = 10\n",
    "    for j in range(init_idx, length-len_res+i+1):\n",
    "\n",
    "        if int(N[j])<min:\n",
    "            min = int(N[j])\n",
    "            init_idx = j+1\n",
    "    \n",
    "    sol+=str(min)\n",
    "\n"
   ]
  },
  {
   "cell_type": "code",
   "execution_count": 45,
   "metadata": {},
   "outputs": [
    {
     "data": {
      "text/plain": [
       "'1219'"
      ]
     },
     "execution_count": 45,
     "metadata": {},
     "output_type": "execute_result"
    }
   ],
   "source": [
    "sol"
   ]
  },
  {
   "cell_type": "markdown",
   "metadata": {},
   "source": [
    "## 给定各小组人数，重新组合成大组，要求每个组人数接近且不能拆分小组"
   ]
  },
  {
   "cell_type": "code",
   "execution_count": 46,
   "metadata": {},
   "outputs": [],
   "source": [
    "small_grp = [1,2,2,3,3,2]\n",
    "N = 3\n",
    "\n",
    "target_nb = sum(small_grp)/N"
   ]
  },
  {
   "cell_type": "code",
   "execution_count": 47,
   "metadata": {},
   "outputs": [
    {
     "data": {
      "text/plain": [
       "4.333333333333333"
      ]
     },
     "execution_count": 47,
     "metadata": {},
     "output_type": "execute_result"
    }
   ],
   "source": []
  },
  {
   "cell_type": "code",
   "execution_count": 112,
   "metadata": {},
   "outputs": [],
   "source": []
  },
  {
   "cell_type": "code",
   "execution_count": 113,
   "metadata": {},
   "outputs": [
    {
     "data": {
      "text/plain": [
       "12"
      ]
     },
     "execution_count": 113,
     "metadata": {},
     "output_type": "execute_result"
    }
   ],
   "source": [
    "bloomDay = [7,7,7,7,12,7,7]\n",
    "\n",
    "m = 2\n",
    "k = 3\n",
    "\n",
    "agent = Solution()\n",
    "agent.minDays(bloomDay,m,k)"
   ]
  },
  {
   "cell_type": "code",
   "execution_count": 88,
   "metadata": {},
   "outputs": [],
   "source": [
    "left = np.min(bloomDay)"
   ]
  },
  {
   "cell_type": "code",
   "execution_count": 68,
   "metadata": {},
   "outputs": [
    {
     "data": {
      "text/plain": [
       "1"
      ]
     },
     "execution_count": 68,
     "metadata": {},
     "output_type": "execute_result"
    }
   ],
   "source": [
    "left"
   ]
  },
  {
   "cell_type": "code",
   "execution_count": 181,
   "metadata": {},
   "outputs": [],
   "source": [
    "class Solution(object):\n",
    "    def lengthOfLongestSubstring(self, s):\n",
    "        \"\"\"\n",
    "        :type s: str\n",
    "        :rtype: int\n",
    "        \"\"\"\n",
    "\n",
    "        l = set()\n",
    "        pointor1 = 0\n",
    "        pointor2 = 0\n",
    "        max_len = 0\n",
    "        while pointor1 <len(s) and pointor2<len(s):\n",
    "            \n",
    "            l.add(s[pointor1])\n",
    "            pointor2 = max(pointor1,pointor2)\n",
    "            \n",
    "#             print(l)\n",
    "#             print('p1', pointor1)\n",
    "#             print('p2',pointor2)\n",
    "            while pointor2+1<len(s) and s[pointor2+1] not in l:\n",
    "                \n",
    "                l.add(s[pointor2+1])\n",
    "#                 print(l)\n",
    "                pointor2+=1\n",
    "#                 print(pointor2)\n",
    "            if len(l)>max_len:\n",
    "                max_len = len(l)\n",
    "            \n",
    "            l.remove(s[pointor1])\n",
    "            pointor1 +=1\n",
    "        return max_len"
   ]
  },
  {
   "cell_type": "code",
   "execution_count": 182,
   "metadata": {},
   "outputs": [
    {
     "name": "stdout",
     "output_type": "stream",
     "text": [
      "{'x'}\n",
      "p1 0\n",
      "p2 0\n",
      "{'x'}\n",
      "p1 1\n",
      "p2 1\n",
      "{'z', 'x'}\n",
      "2\n",
      "{'z', 'x', 'q'}\n",
      "3\n",
      "{'z', 'x', 'i', 'q'}\n",
      "4\n",
      "{'z', 'i', 'q'}\n",
      "p1 2\n",
      "p2 4\n",
      "{'i', 'q'}\n",
      "p1 3\n",
      "p2 4\n",
      "{'i'}\n",
      "p1 4\n",
      "p2 4\n",
      "4\n"
     ]
    }
   ],
   "source": [
    "s = \"xxzqi\"\n",
    "agent = Solution()\n",
    "print(agent.lengthOfLongestSubstring(s))"
   ]
  },
  {
   "cell_type": "code",
   "execution_count": 144,
   "metadata": {},
   "outputs": [
    {
     "data": {
      "text/plain": [
       "[3, 4]"
      ]
     },
     "execution_count": 144,
     "metadata": {},
     "output_type": "execute_result"
    }
   ],
   "source": [
    "l"
   ]
  },
  {
   "cell_type": "code",
   "execution_count": null,
   "metadata": {},
   "outputs": [],
   "source": []
  }
 ],
 "metadata": {
  "kernelspec": {
   "display_name": "Python 3",
   "language": "python",
   "name": "python3"
  },
  "language_info": {
   "codemirror_mode": {
    "name": "ipython",
    "version": 3
   },
   "file_extension": ".py",
   "mimetype": "text/x-python",
   "name": "python",
   "nbconvert_exporter": "python",
   "pygments_lexer": "ipython3",
   "version": "3.7.4"
  }
 },
 "nbformat": 4,
 "nbformat_minor": 2
}
